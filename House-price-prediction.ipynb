{
 "cells": [
  {
   "cell_type": "code",
   "execution_count": 1,
   "metadata": {
    "colab": {
     "base_uri": "https://localhost:8080/",
     "height": 238
    },
    "colab_type": "code",
    "id": "QcwQ5hdHdllC",
    "outputId": "c1e6b201-41c3-4e63-e673-ee709124e211",
    "scrolled": true
   },
   "outputs": [
    {
     "name": "stdout",
     "output_type": "stream",
     "text": [
      "Requirement already satisfied: vecstack in /Applications/anaconda3/lib/python3.7/site-packages (0.4.0)\n",
      "Requirement already satisfied: scipy in /Applications/anaconda3/lib/python3.7/site-packages (from vecstack) (1.3.1)\n",
      "Requirement already satisfied: numpy in /Applications/anaconda3/lib/python3.7/site-packages (from vecstack) (1.17.2)\n",
      "Requirement already satisfied: scikit-learn>=0.18 in /Applications/anaconda3/lib/python3.7/site-packages (from vecstack) (0.23.1)\n",
      "Requirement already satisfied: threadpoolctl>=2.0.0 in /Applications/anaconda3/lib/python3.7/site-packages (from scikit-learn>=0.18->vecstack) (2.1.0)\n",
      "Requirement already satisfied: joblib>=0.11 in /Applications/anaconda3/lib/python3.7/site-packages (from scikit-learn>=0.18->vecstack) (0.13.2)\n"
     ]
    }
   ],
   "source": [
    "!pip install vecstack"
   ]
  },
  {
   "cell_type": "code",
   "execution_count": 2,
   "metadata": {
    "colab": {
     "base_uri": "https://localhost:8080/",
     "height": 119
    },
    "colab_type": "code",
    "id": "teonaq9RX6zd",
    "outputId": "c52dae41-3835-4d91-d2e9-ec6e73577280"
   },
   "outputs": [
    {
     "name": "stdout",
     "output_type": "stream",
     "text": [
      "Requirement already satisfied: imblearn in /Applications/anaconda3/lib/python3.7/site-packages (0.0)\r\n",
      "Requirement already satisfied: imbalanced-learn in /Applications/anaconda3/lib/python3.7/site-packages (from imblearn) (0.6.2)\r\n",
      "Requirement already satisfied: scipy>=0.17 in /Applications/anaconda3/lib/python3.7/site-packages (from imbalanced-learn->imblearn) (1.3.1)\r\n",
      "Requirement already satisfied: joblib>=0.11 in /Applications/anaconda3/lib/python3.7/site-packages (from imbalanced-learn->imblearn) (0.13.2)\r\n",
      "Requirement already satisfied: scikit-learn>=0.22 in /Applications/anaconda3/lib/python3.7/site-packages (from imbalanced-learn->imblearn) (0.23.1)\r\n",
      "Requirement already satisfied: numpy>=1.11 in /Applications/anaconda3/lib/python3.7/site-packages (from imbalanced-learn->imblearn) (1.17.2)\r\n",
      "Requirement already satisfied: threadpoolctl>=2.0.0 in /Applications/anaconda3/lib/python3.7/site-packages (from scikit-learn>=0.22->imbalanced-learn->imblearn) (2.1.0)\r\n"
     ]
    }
   ],
   "source": [
    "!pip install imblearn"
   ]
  },
  {
   "cell_type": "code",
   "execution_count": 3,
   "metadata": {
    "colab": {
     "base_uri": "https://localhost:8080/",
     "height": 71
    },
    "colab_type": "code",
    "id": "eQqGDszCfMbu",
    "outputId": "17e83664-a9ab-4161-d97b-b3c4bc160050"
   },
   "outputs": [
    {
     "name": "stderr",
     "output_type": "stream",
     "text": [
      "Using TensorFlow backend.\n"
     ]
    }
   ],
   "source": [
    "from vecstack import stacking\n",
    "import pandas as pd\n",
    "import numpy as np\n",
    "from sklearn.metrics import accuracy_score #works\n",
    "from sklearn.model_selection import train_test_split\n",
    "from sklearn.ensemble import RandomForestRegressor\n",
    "from sklearn.tree import DecisionTreeRegressor\n",
    "from sklearn.model_selection import GridSearchCV\n",
    "from sklearn.model_selection import RandomizedSearchCV\n",
    "from sklearn.model_selection import cross_val_score\n",
    "from sklearn.metrics import classification_report, confusion_matrix\n",
    "from sklearn.linear_model import SGDRegressor\n",
    "from sklearn.neural_network import MLPRegressor\n",
    "from sklearn.neighbors import KNeighborsRegressor\n",
    "from sklearn.svm import SVR\n",
    "from imblearn.over_sampling import SMOTE \n",
    "from collections import Counter #for Smote, \n",
    "\n",
    "import warnings\n",
    "warnings.filterwarnings(\"ignore\")"
   ]
  },
  {
   "cell_type": "markdown",
   "metadata": {},
   "source": [
    "# Data file- loading and data cleaning"
   ]
  },
  {
   "cell_type": "code",
   "execution_count": 4,
   "metadata": {
    "colab": {},
    "colab_type": "code",
    "id": "1vyZX66TfUTt"
   },
   "outputs": [
    {
     "name": "stdout",
     "output_type": "stream",
     "text": [
      "(1460, 81)\n",
      "(1459, 80)\n"
     ]
    }
   ],
   "source": [
    "train_data = pd.read_csv(\"train.csv\")\n",
    "test_data = pd.read_csv(\"test.csv\")\n",
    "\n",
    "print(train_data.shape)\n",
    "print(test_data.shape)"
   ]
  },
  {
   "cell_type": "code",
   "execution_count": 5,
   "metadata": {
    "colab": {},
    "colab_type": "code",
    "id": "670BAu4yX6zo",
    "outputId": "a1f49ce0-1335-4336-ba1f-be4eb30ec8ef",
    "scrolled": true
   },
   "outputs": [
    {
     "data": {
      "text/plain": [
       "Alley          0.937671\n",
       "PoolQC         0.995205\n",
       "Fence          0.807534\n",
       "MiscFeature    0.963014\n",
       "dtype: float64"
      ]
     },
     "execution_count": 5,
     "metadata": {},
     "output_type": "execute_result"
    }
   ],
   "source": [
    "#Drop the percentage of missing value larger than 0.7\n",
    "train_missing = train_data.isna().sum() / train_data.shape[0]\n",
    "train_missing[train_missing > 0.7]"
   ]
  },
  {
   "cell_type": "code",
   "execution_count": 6,
   "metadata": {
    "colab": {},
    "colab_type": "code",
    "id": "W22y_FY2X6zr",
    "outputId": "36daf5bc-b770-4ee8-a27d-ded31a29dfc9"
   },
   "outputs": [
    {
     "data": {
      "text/plain": [
       "Alley          0.926662\n",
       "PoolQC         0.997944\n",
       "Fence          0.801234\n",
       "MiscFeature    0.965045\n",
       "dtype: float64"
      ]
     },
     "execution_count": 6,
     "metadata": {},
     "output_type": "execute_result"
    }
   ],
   "source": [
    "test_missing = test_data.isna().sum() / test_data.shape[0]\n",
    "test_missing[test_missing > 0.7]"
   ]
  },
  {
   "cell_type": "code",
   "execution_count": 7,
   "metadata": {
    "colab": {},
    "colab_type": "code",
    "id": "ecISErcsX6zu",
    "outputId": "18ce8214-0bc4-4594-b864-a283681d6cef"
   },
   "outputs": [
    {
     "data": {
      "text/plain": [
       "Index(['Alley', 'PoolQC', 'Fence', 'MiscFeature'], dtype='object')"
      ]
     },
     "execution_count": 7,
     "metadata": {},
     "output_type": "execute_result"
    }
   ],
   "source": [
    "train_data.loc[:, (train_data.isna().sum() / train_data.shape[0] > 0.7)].columns"
   ]
  },
  {
   "cell_type": "code",
   "execution_count": 8,
   "metadata": {
    "colab": {},
    "colab_type": "code",
    "id": "EuNue3RoX6zw",
    "outputId": "2d22b12a-abb5-4293-f940-8aa8eb062436"
   },
   "outputs": [
    {
     "data": {
      "text/plain": [
       "Index(['Alley', 'PoolQC', 'Fence', 'MiscFeature'], dtype='object')"
      ]
     },
     "execution_count": 8,
     "metadata": {},
     "output_type": "execute_result"
    }
   ],
   "source": [
    "test_data.loc[:, (test_data.isna().sum() / test_data.shape[0] > 0.7)].columns"
   ]
  },
  {
   "cell_type": "code",
   "execution_count": 9,
   "metadata": {
    "colab": {},
    "colab_type": "code",
    "id": "YrEczB6xX6zz"
   },
   "outputs": [],
   "source": [
    "train_data.drop(train_missing[train_missing > 0.7].index, axis = 1, inplace = True)"
   ]
  },
  {
   "cell_type": "code",
   "execution_count": 10,
   "metadata": {
    "colab": {},
    "colab_type": "code",
    "id": "UcJaFKnVX6z1"
   },
   "outputs": [],
   "source": [
    "test_data.drop(test_missing[test_missing > 0.7].index, axis = 1, inplace = True)"
   ]
  },
  {
   "cell_type": "code",
   "execution_count": 11,
   "metadata": {
    "colab": {},
    "colab_type": "code",
    "id": "LsZITbdDX6z4",
    "outputId": "912ea00b-c91b-4280-c632-f245097c0304"
   },
   "outputs": [
    {
     "data": {
      "text/html": [
       "<div>\n",
       "<style scoped>\n",
       "    .dataframe tbody tr th:only-of-type {\n",
       "        vertical-align: middle;\n",
       "    }\n",
       "\n",
       "    .dataframe tbody tr th {\n",
       "        vertical-align: top;\n",
       "    }\n",
       "\n",
       "    .dataframe thead th {\n",
       "        text-align: right;\n",
       "    }\n",
       "</style>\n",
       "<table border=\"1\" class=\"dataframe\">\n",
       "  <thead>\n",
       "    <tr style=\"text-align: right;\">\n",
       "      <th></th>\n",
       "      <th>Id</th>\n",
       "      <th>MSSubClass</th>\n",
       "      <th>MSZoning</th>\n",
       "      <th>LotFrontage</th>\n",
       "      <th>LotArea</th>\n",
       "      <th>Street</th>\n",
       "      <th>LotShape</th>\n",
       "      <th>LandContour</th>\n",
       "      <th>Utilities</th>\n",
       "      <th>LotConfig</th>\n",
       "      <th>...</th>\n",
       "      <th>EnclosedPorch</th>\n",
       "      <th>3SsnPorch</th>\n",
       "      <th>ScreenPorch</th>\n",
       "      <th>PoolArea</th>\n",
       "      <th>MiscVal</th>\n",
       "      <th>MoSold</th>\n",
       "      <th>YrSold</th>\n",
       "      <th>SaleType</th>\n",
       "      <th>SaleCondition</th>\n",
       "      <th>SalePrice</th>\n",
       "    </tr>\n",
       "  </thead>\n",
       "  <tbody>\n",
       "    <tr>\n",
       "      <td>0</td>\n",
       "      <td>1</td>\n",
       "      <td>60</td>\n",
       "      <td>RL</td>\n",
       "      <td>65.0</td>\n",
       "      <td>8450</td>\n",
       "      <td>Pave</td>\n",
       "      <td>Reg</td>\n",
       "      <td>Lvl</td>\n",
       "      <td>AllPub</td>\n",
       "      <td>Inside</td>\n",
       "      <td>...</td>\n",
       "      <td>0</td>\n",
       "      <td>0</td>\n",
       "      <td>0</td>\n",
       "      <td>0</td>\n",
       "      <td>0</td>\n",
       "      <td>2</td>\n",
       "      <td>2008</td>\n",
       "      <td>WD</td>\n",
       "      <td>Normal</td>\n",
       "      <td>208500</td>\n",
       "    </tr>\n",
       "    <tr>\n",
       "      <td>1</td>\n",
       "      <td>2</td>\n",
       "      <td>20</td>\n",
       "      <td>RL</td>\n",
       "      <td>80.0</td>\n",
       "      <td>9600</td>\n",
       "      <td>Pave</td>\n",
       "      <td>Reg</td>\n",
       "      <td>Lvl</td>\n",
       "      <td>AllPub</td>\n",
       "      <td>FR2</td>\n",
       "      <td>...</td>\n",
       "      <td>0</td>\n",
       "      <td>0</td>\n",
       "      <td>0</td>\n",
       "      <td>0</td>\n",
       "      <td>0</td>\n",
       "      <td>5</td>\n",
       "      <td>2007</td>\n",
       "      <td>WD</td>\n",
       "      <td>Normal</td>\n",
       "      <td>181500</td>\n",
       "    </tr>\n",
       "    <tr>\n",
       "      <td>2</td>\n",
       "      <td>3</td>\n",
       "      <td>60</td>\n",
       "      <td>RL</td>\n",
       "      <td>68.0</td>\n",
       "      <td>11250</td>\n",
       "      <td>Pave</td>\n",
       "      <td>IR1</td>\n",
       "      <td>Lvl</td>\n",
       "      <td>AllPub</td>\n",
       "      <td>Inside</td>\n",
       "      <td>...</td>\n",
       "      <td>0</td>\n",
       "      <td>0</td>\n",
       "      <td>0</td>\n",
       "      <td>0</td>\n",
       "      <td>0</td>\n",
       "      <td>9</td>\n",
       "      <td>2008</td>\n",
       "      <td>WD</td>\n",
       "      <td>Normal</td>\n",
       "      <td>223500</td>\n",
       "    </tr>\n",
       "    <tr>\n",
       "      <td>3</td>\n",
       "      <td>4</td>\n",
       "      <td>70</td>\n",
       "      <td>RL</td>\n",
       "      <td>60.0</td>\n",
       "      <td>9550</td>\n",
       "      <td>Pave</td>\n",
       "      <td>IR1</td>\n",
       "      <td>Lvl</td>\n",
       "      <td>AllPub</td>\n",
       "      <td>Corner</td>\n",
       "      <td>...</td>\n",
       "      <td>272</td>\n",
       "      <td>0</td>\n",
       "      <td>0</td>\n",
       "      <td>0</td>\n",
       "      <td>0</td>\n",
       "      <td>2</td>\n",
       "      <td>2006</td>\n",
       "      <td>WD</td>\n",
       "      <td>Abnorml</td>\n",
       "      <td>140000</td>\n",
       "    </tr>\n",
       "    <tr>\n",
       "      <td>4</td>\n",
       "      <td>5</td>\n",
       "      <td>60</td>\n",
       "      <td>RL</td>\n",
       "      <td>84.0</td>\n",
       "      <td>14260</td>\n",
       "      <td>Pave</td>\n",
       "      <td>IR1</td>\n",
       "      <td>Lvl</td>\n",
       "      <td>AllPub</td>\n",
       "      <td>FR2</td>\n",
       "      <td>...</td>\n",
       "      <td>0</td>\n",
       "      <td>0</td>\n",
       "      <td>0</td>\n",
       "      <td>0</td>\n",
       "      <td>0</td>\n",
       "      <td>12</td>\n",
       "      <td>2008</td>\n",
       "      <td>WD</td>\n",
       "      <td>Normal</td>\n",
       "      <td>250000</td>\n",
       "    </tr>\n",
       "  </tbody>\n",
       "</table>\n",
       "<p>5 rows × 77 columns</p>\n",
       "</div>"
      ],
      "text/plain": [
       "   Id  MSSubClass MSZoning  LotFrontage  LotArea Street LotShape LandContour  \\\n",
       "0   1          60       RL         65.0     8450   Pave      Reg         Lvl   \n",
       "1   2          20       RL         80.0     9600   Pave      Reg         Lvl   \n",
       "2   3          60       RL         68.0    11250   Pave      IR1         Lvl   \n",
       "3   4          70       RL         60.0     9550   Pave      IR1         Lvl   \n",
       "4   5          60       RL         84.0    14260   Pave      IR1         Lvl   \n",
       "\n",
       "  Utilities LotConfig  ... EnclosedPorch 3SsnPorch ScreenPorch PoolArea  \\\n",
       "0    AllPub    Inside  ...             0         0           0        0   \n",
       "1    AllPub       FR2  ...             0         0           0        0   \n",
       "2    AllPub    Inside  ...             0         0           0        0   \n",
       "3    AllPub    Corner  ...           272         0           0        0   \n",
       "4    AllPub       FR2  ...             0         0           0        0   \n",
       "\n",
       "  MiscVal MoSold  YrSold  SaleType  SaleCondition  SalePrice  \n",
       "0       0      2    2008        WD         Normal     208500  \n",
       "1       0      5    2007        WD         Normal     181500  \n",
       "2       0      9    2008        WD         Normal     223500  \n",
       "3       0      2    2006        WD        Abnorml     140000  \n",
       "4       0     12    2008        WD         Normal     250000  \n",
       "\n",
       "[5 rows x 77 columns]"
      ]
     },
     "execution_count": 11,
     "metadata": {},
     "output_type": "execute_result"
    }
   ],
   "source": [
    "train_data.head()"
   ]
  },
  {
   "cell_type": "code",
   "execution_count": 12,
   "metadata": {
    "colab": {},
    "colab_type": "code",
    "id": "uuuhsyr1X6z7",
    "outputId": "e0a5f765-62c5-4be0-e728-26bbbac884d2"
   },
   "outputs": [
    {
     "data": {
      "text/plain": [
       "LotFrontage     259\n",
       "MasVnrType        8\n",
       "MasVnrArea        8\n",
       "BsmtQual         37\n",
       "BsmtCond         37\n",
       "BsmtExposure     38\n",
       "BsmtFinType1     37\n",
       "BsmtFinType2     38\n",
       "Electrical        1\n",
       "FireplaceQu     690\n",
       "GarageType       81\n",
       "GarageYrBlt      81\n",
       "GarageFinish     81\n",
       "GarageQual       81\n",
       "GarageCond       81\n",
       "dtype: int64"
      ]
     },
     "execution_count": 12,
     "metadata": {},
     "output_type": "execute_result"
    }
   ],
   "source": [
    "train_data.loc[:, (train_data.isna().sum() > 0).values].isna().sum()"
   ]
  },
  {
   "cell_type": "code",
   "execution_count": 13,
   "metadata": {
    "colab": {},
    "colab_type": "code",
    "id": "i2AUgKcdX6z-"
   },
   "outputs": [],
   "source": [
    "# Manage the missing value in Train dataset\n",
    "train_data['LotFrontage'].interpolate(axis=0, inplace=True)\n",
    "train_data[['MasVnrType']].fillna('None', inplace=True)\n",
    "train_data.dropna(subset=['GarageType', 'GarageYrBlt', 'GarageFinish', 'GarageQual', 'GarageCond'], inplace=True)\n",
    "train_data.dropna(subset=['BsmtQual', 'BsmtCond', 'BsmtFinType1'], inplace=True)\n",
    "train_data.dropna(subset=['MasVnrType', 'MasVnrArea'], inplace=True)\n",
    "train_data.drop('FireplaceQu', axis=1, inplace=True)\n",
    "train_data['BsmtExposure'].fillna('No', inplace=True)\n",
    "train_data['BsmtFinType2'].fillna('Unf', inplace=True)\n",
    "train_data['Electrical'].fillna('SBrkr', inplace=True)"
   ]
  },
  {
   "cell_type": "code",
   "execution_count": 14,
   "metadata": {
    "colab": {},
    "colab_type": "code",
    "id": "jpM9MAAtX60B",
    "outputId": "36a74c5d-cb67-4d21-8fbb-064f45d7b809",
    "scrolled": true
   },
   "outputs": [
    {
     "data": {
      "text/plain": [
       "MSZoning          4\n",
       "LotFrontage     227\n",
       "Utilities         2\n",
       "Exterior1st       1\n",
       "Exterior2nd       1\n",
       "MasVnrType       16\n",
       "MasVnrArea       15\n",
       "BsmtQual         44\n",
       "BsmtCond         45\n",
       "BsmtExposure     44\n",
       "BsmtFinType1     42\n",
       "BsmtFinSF1        1\n",
       "BsmtFinType2     42\n",
       "BsmtFinSF2        1\n",
       "BsmtUnfSF         1\n",
       "TotalBsmtSF       1\n",
       "BsmtFullBath      2\n",
       "BsmtHalfBath      2\n",
       "KitchenQual       1\n",
       "Functional        2\n",
       "FireplaceQu     730\n",
       "GarageType       76\n",
       "GarageYrBlt      78\n",
       "GarageFinish     78\n",
       "GarageCars        1\n",
       "GarageArea        1\n",
       "GarageQual       78\n",
       "GarageCond       78\n",
       "SaleType          1\n",
       "dtype: int64"
      ]
     },
     "execution_count": 14,
     "metadata": {},
     "output_type": "execute_result"
    }
   ],
   "source": [
    "test_data.loc[:, (test_data.isna().sum() > 0).values].isna().sum()"
   ]
  },
  {
   "cell_type": "code",
   "execution_count": 15,
   "metadata": {
    "colab": {},
    "colab_type": "code",
    "id": "DKAV6dN3X60E"
   },
   "outputs": [],
   "source": [
    "test_data.fillna(method='ffill', inplace=True)\n",
    "test_data.fillna(method='bfill', inplace=True)"
   ]
  },
  {
   "cell_type": "code",
   "execution_count": 16,
   "metadata": {
    "colab": {
     "base_uri": "https://localhost:8080/",
     "height": 289
    },
    "colab_type": "code",
    "id": "OUBE7LTNfccW",
    "outputId": "3880bd02-869d-4176-8859-8bb53fb641b1"
   },
   "outputs": [
    {
     "name": "stdout",
     "output_type": "stream",
     "text": [
      "(1341, 274)\n",
      "   1stFlrSF  2ndFlrSF  3SsnPorch  BedroomAbvGr  BsmtFinSF1  BsmtFinSF2  \\\n",
      "0       896         0          0             2       468.0       144.0   \n",
      "1      1329         0          0             3       923.0         0.0   \n",
      "2       928       701          0             3       791.0         0.0   \n",
      "3       926       678          0             3       602.0         0.0   \n",
      "4      1280         0          0             2       263.0         0.0   \n",
      "\n",
      "   BsmtFullBath  BsmtHalfBath  BsmtUnfSF  EnclosedPorch  ...  SaleType_ConLD  \\\n",
      "0           0.0           0.0      270.0              0  ...               0   \n",
      "1           0.0           0.0      406.0              0  ...               0   \n",
      "2           0.0           0.0      137.0              0  ...               0   \n",
      "3           0.0           0.0      324.0              0  ...               0   \n",
      "4           0.0           0.0     1017.0              0  ...               0   \n",
      "\n",
      "   SaleType_ConLI  SaleType_ConLw  SaleType_New  SaleType_Oth  SaleType_WD  \\\n",
      "0               0               0             0             0            1   \n",
      "1               0               0             0             0            1   \n",
      "2               0               0             0             0            1   \n",
      "3               0               0             0             0            1   \n",
      "4               0               0             0             0            1   \n",
      "\n",
      "   Street_Grvl  Street_Pave  Utilities_AllPub  Utilities_NoSeWa  \n",
      "0            0            1                 1                 0  \n",
      "1            0            1                 1                 0  \n",
      "2            0            1                 1                 0  \n",
      "3            0            1                 1                 0  \n",
      "4            0            1                 1                 0  \n",
      "\n",
      "[5 rows x 274 columns]\n",
      "(1341,)\n"
     ]
    }
   ],
   "source": [
    "# Copy Train data excluding target\n",
    "trainData_Copy = train_data.drop(['SalePrice', 'Id'], axis=1).copy()\n",
    "testData_Copy = test_data.drop('Id', axis=1).copy()\n",
    "\n",
    "# Combine Train and test for one Hot Encoding\n",
    "combined_Data = pd.concat([trainData_Copy,testData_Copy], keys = [0,1])\n",
    "\n",
    "# Do one Hot encoding for categorical features\n",
    "combined_Data = pd.get_dummies(combined_Data)\n",
    "\n",
    "# Separate Train data and test data\n",
    "X_train = combined_Data.xs(0)\n",
    "X_test = combined_Data.xs(1)\n",
    "\n",
    "y_train = train_data[\"SalePrice\"]\n",
    "\n",
    "print(X_train.shape)\n",
    "print(X_test.head()) \n",
    "\n",
    "print(y_train.shape)"
   ]
  },
  {
   "cell_type": "markdown",
   "metadata": {},
   "source": [
    "## Build various regression models "
   ]
  },
  {
   "cell_type": "markdown",
   "metadata": {},
   "source": [
    "### Decision Tree regressor"
   ]
  },
  {
   "cell_type": "code",
   "execution_count": 17,
   "metadata": {
    "colab": {},
    "colab_type": "code",
    "id": "ouSzZTRsfnqO"
   },
   "outputs": [],
   "source": [
    "#Obtain Respective Accuracy\n",
    "clf = DecisionTreeRegressor()\n",
    "clf.fit(X_train, y_train)\n",
    "clf_predict = clf.predict(X_test)\n",
    "\n",
    "pd.DataFrame({'Id': test_data.Id, 'SalePrice': clf_predict}).to_csv('result_decisiontree', index=None)"
   ]
  },
  {
   "cell_type": "code",
   "execution_count": 18,
   "metadata": {
    "colab": {
     "base_uri": "https://localhost:8080/",
     "height": 34
    },
    "colab_type": "code",
    "id": "feUn7ef5fy4s",
    "outputId": "5559ad17-8fe9-4fb5-fd28-3a50b3a7ba5d"
   },
   "outputs": [
    {
     "name": "stdout",
     "output_type": "stream",
     "text": [
      "{'min_samples_split': 40, 'max_depth': 15}\n"
     ]
    }
   ],
   "source": [
    "# Hyperparameter tuning done for decision tree regressor\n",
    "parameters={'min_samples_split' : range(10,100,10),'max_depth': range(1,20,2)}\n",
    "clf_random = RandomizedSearchCV(clf, parameters, n_iter=15)\n",
    "clf_random.fit(X_train, y_train)\n",
    "grid_parm = clf_random.best_params_\n",
    "print(grid_parm)\n",
    "\n",
    "# Using the parameters obtained from HyperParameterTuning in the DecisionTreeRegressor\n",
    "clf = DecisionTreeRegressor(**grid_parm)\n",
    "clf.fit(X_train, y_train)\n",
    "clf_predict = clf.predict(X_test)\n",
    "\n",
    "pd.DataFrame({'Id': test_data.Id, 'SalePrice': clf_predict}).to_csv('result_decisiontree_best', index=None)"
   ]
  },
  {
   "cell_type": "markdown",
   "metadata": {},
   "source": [
    "### Random Forest Regressor"
   ]
  },
  {
   "cell_type": "code",
   "execution_count": 19,
   "metadata": {
    "colab": {},
    "colab_type": "code",
    "id": "cuhgy0RcseYE"
   },
   "outputs": [],
   "source": [
    "rfc = RandomForestRegressor()\n",
    "rfc.fit(X_train, y_train)\n",
    "rfc_predict = rfc.predict(X_test)\n",
    "\n",
    "pd.DataFrame({'Id': test_data.Id, 'SalePrice': rfc_predict}).to_csv('result_randomforest', index=None)"
   ]
  },
  {
   "cell_type": "code",
   "execution_count": 20,
   "metadata": {
    "colab": {
     "base_uri": "https://localhost:8080/",
     "height": 34
    },
    "colab_type": "code",
    "id": "oEApT8zrg9rb",
    "outputId": "74f40a82-42ed-4076-f96e-8c9a9539ad48"
   },
   "outputs": [
    {
     "name": "stdout",
     "output_type": "stream",
     "text": [
      "{'n_estimators': 70, 'min_samples_split': 20, 'max_depth': 15}\n"
     ]
    }
   ],
   "source": [
    "# Hyperparameter tuning for Random Forest\n",
    "parameters = {'n_estimators': range(50,150,20), 'min_samples_split' : range(10,100,10), 'max_depth': range(1,20,2)}\n",
    "rfc_random = RandomizedSearchCV(rfc, parameters, n_iter=15)\n",
    "rfc_random.fit(X_train, y_train)\n",
    "grid_parm_rfc = rfc_random.best_params_\n",
    "print(grid_parm_rfc)\n",
    "\n",
    "# Contruct Random Forest using the best parameters\n",
    "rfc = RandomForestRegressor(**grid_parm_rfc)\n",
    "rfc.fit(X_train,y_train)\n",
    "rfc_predict = rfc.predict(X_test)\n",
    "\n",
    "pd.DataFrame({'Id': test_data.Id, 'SalePrice': rfc_predict}).to_csv('result_randomforest_best', index=None)"
   ]
  },
  {
   "cell_type": "markdown",
   "metadata": {},
   "source": [
    "### Multi layer perceptron regressor"
   ]
  },
  {
   "cell_type": "code",
   "execution_count": 21,
   "metadata": {
    "colab": {},
    "colab_type": "code",
    "id": "eKwWpQ-mX60U"
   },
   "outputs": [],
   "source": [
    "mlp = MLPRegressor()\n",
    "mlp.fit(X_train, y_train)\n",
    "mlp_predict = mlp.predict(X_test)\n",
    "\n",
    "pd.DataFrame({'Id': test_data.Id, 'SalePrice': mlp_predict}).to_csv('result_mlpregressor', index=None)"
   ]
  },
  {
   "cell_type": "code",
   "execution_count": 22,
   "metadata": {
    "colab": {},
    "colab_type": "code",
    "id": "iRin60QBX60Y",
    "outputId": "088ca521-0327-4557-c3df-479ef46898c0"
   },
   "outputs": [
    {
     "name": "stdout",
     "output_type": "stream",
     "text": [
      "{'learning_rate_init': 0.01, 'learning_rate': 'invscaling', 'hidden_layer_sizes': 340, 'activation': 'identity'}\n"
     ]
    }
   ],
   "source": [
    "# Hyperparameter tuning for MLP Regressor\n",
    "parameters = {'hidden_layer_sizes': range(100, 500, 10), 'activation': ['identity', 'logistic', 'tanh', 'relu'], 'learning_rate': ['constant', 'invscaling', 'adaptive'], 'learning_rate_init': [0.001, 0.01, 0.005]}\n",
    "mlp_random = RandomizedSearchCV(mlp, parameters, n_iter=15)\n",
    "mlp_random.fit(X_train, y_train)\n",
    "grid_parm_mlp = mlp_random.best_params_\n",
    "print(grid_parm_mlp)\n",
    "\n",
    "# Contruct MLP Regressor using the best parameters\n",
    "mlp = MLPRegressor(**grid_parm_mlp)\n",
    "mlp.fit(X_train,y_train)\n",
    "mlp_predict = mlp.predict(X_test)\n",
    "\n",
    "pd.DataFrame({'Id': test_data.Id, 'SalePrice': mlp_predict}).to_csv('result_mlpregressor_best', index=None)"
   ]
  },
  {
   "cell_type": "markdown",
   "metadata": {},
   "source": [
    "### Support Vector Regressor"
   ]
  },
  {
   "cell_type": "code",
   "execution_count": 23,
   "metadata": {
    "colab": {},
    "colab_type": "code",
    "id": "6Nmmcc1PX60b"
   },
   "outputs": [],
   "source": [
    "svr = SVR()\n",
    "svr.fit(X_train, y_train)\n",
    "svr_predict = svr.predict(X_test)\n",
    "\n",
    "pd.DataFrame({'Id': test_data.Id, 'SalePrice': svr_predict}).to_csv('result_svmregressor', index=None)"
   ]
  },
  {
   "cell_type": "code",
   "execution_count": null,
   "metadata": {
    "colab": {},
    "colab_type": "code",
    "id": "xHHJOWx6X60d"
   },
   "outputs": [],
   "source": [
    "# Hyperparameter tuning for Support Vector Regressor\n",
    "parameters = {'kernel': ['linear', 'poly', 'rbf', 'sigmoid', 'precomputed'], 'degree': range(3, 12, 1)}\n",
    "svr_random = RandomizedSearchCV(svr, parameters, n_iter=15)\n",
    "svr_random.fit(X_train, y_train)\n",
    "grid_parm_svr = svr_random.best_params_\n",
    "print(grid_parm_svr)\n",
    "\n",
    "# Contruct Support Vector Regressor using the best parameters\n",
    "svr = SVR(**grid_parm_svr)\n",
    "svr.fit(X_train,y_train)\n",
    "svr_predict = svr.predict(X_test)\n",
    "\n",
    "pd.DataFrame({'Id': test_data.Id, 'SalePrice': svr_predict}).to_csv('result_svmregressor_best', index=None)"
   ]
  },
  {
   "cell_type": "markdown",
   "metadata": {},
   "source": [
    "### Gradient Descent Regressor"
   ]
  },
  {
   "cell_type": "code",
   "execution_count": null,
   "metadata": {
    "colab": {
     "base_uri": "https://localhost:8080/",
     "height": 34
    },
    "colab_type": "code",
    "id": "91eLALAohcl0",
    "outputId": "4e3fc54d-157a-491e-a947-40516647507a"
   },
   "outputs": [],
   "source": [
    "search_grid = {'n_estimators':[5, 10, 20, 30, 50], 'learning_rate':[0.01, 0.1, 0.05]}\n",
    "abc = SGDRegressor()\n",
    "abc.fit(X_train, y_train)\n",
    "abc_predict = abc.predict(X_test)\n",
    "\n",
    "pd.DataFrame({'Id': test_data.Id, 'SalePrice': svr_predict}).to_csv('result_gradientdescent', index=None)"
   ]
  },
  {
   "cell_type": "code",
   "execution_count": null,
   "metadata": {
    "colab": {},
    "colab_type": "code",
    "id": "hgVrQ1npX60h"
   },
   "outputs": [],
   "source": [
    "# Hyperparameter tuning for Gradient Descent Regressor\n",
    "parameters = {'loss': ['squared_loss', 'huber', 'epsilon_insensitive', 'squared_epsilon_insensitive'], 'penalty': ['none', 'l2', 'l1', 'elasticnet']}\n",
    "abc_random = RandomizedSearchCV(abc, parameters, n_iter=15)\n",
    "abc_random.fit(X_train, y_train)\n",
    "grid_parm_abc = abc_random.best_params_\n",
    "print(grid_parm_abc)\n",
    "\n",
    "# Contruct Gradient Descent Regressor using the best parameters\n",
    "abc = SVR(**grid_parm_abc)\n",
    "abc.fit(X_train,y_train)\n",
    "abc_predict = abc.predict(X_test)\n",
    "\n",
    "pd.DataFrame({'Id': test_data.Id, 'SalePrice': abc_predict}).to_csv('result_gradientdescent_best', index=None)"
   ]
  },
  {
   "cell_type": "markdown",
   "metadata": {},
   "source": [
    "## Ensemble method- Stacking models"
   ]
  },
  {
   "cell_type": "code",
   "execution_count": null,
   "metadata": {
    "colab": {
     "base_uri": "https://localhost:8080/",
     "height": 493
    },
    "colab_type": "code",
    "id": "sWE9CI9eWFyx",
    "outputId": "6c917847-2e7a-43b9-c541-6477a8764956"
   },
   "outputs": [],
   "source": [
    "print(\"Ensemble Methods Predictions using Gradient Descent Regressor, Random Forest Regressor and Decision Tree Regressor\\n\")\n",
    "\n",
    "models = [SGDRegressor(**grid_parm_abc), RandomForestRegressor(**grid_parm_rfc), DecisionTreeRegressor(**grid_parm)]\n",
    "      \n",
    "S_Train, S_Test = stacking(models,                   \n",
    "                           X_res, y_res, X_test,   \n",
    "                           regression = False, \n",
    "                           mode = 'oof_pred_bag', \n",
    "                           needs_proba = False,\n",
    "                           save_dir = None, \n",
    "                           metric = accuracy_score, \n",
    "                           n_folds = 4, \n",
    "                           stratified = True,\n",
    "                           shuffle = True,  \n",
    "                           random_state = 0,    \n",
    "                           verbose = 2)"
   ]
  },
  {
   "cell_type": "code",
   "execution_count": null,
   "metadata": {
    "colab": {},
    "colab_type": "code",
    "id": "P3lLPxbSWNrK"
   },
   "outputs": [],
   "source": [
    "#Stacking - Construct a Gradient Descent Regressor\n",
    "model = SGDRegressor()\n",
    "    \n",
    "model = model.fit(S_Train, y_test)\n",
    "y_pred = model.predict(S_Test)\n",
    "\n",
    "pd.DataFrame({'Id': test_data.Id, 'SalePrice': model_predict}).to_csv('result_stacking', index=None)"
   ]
  }
 ],
 "metadata": {
  "colab": {
   "collapsed_sections": [],
   "name": "TeamAssignment_1.ipynb",
   "provenance": []
  },
  "kernelspec": {
   "display_name": "Python 3",
   "language": "python",
   "name": "python3"
  },
  "language_info": {
   "codemirror_mode": {
    "name": "ipython",
    "version": 3
   },
   "file_extension": ".py",
   "mimetype": "text/x-python",
   "name": "python",
   "nbconvert_exporter": "python",
   "pygments_lexer": "ipython3",
   "version": "3.7.4"
  }
 },
 "nbformat": 4,
 "nbformat_minor": 1
}
